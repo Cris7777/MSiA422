{
 "cells": [
  {
   "cell_type": "markdown",
   "metadata": {},
   "source": [
    "# Bubble Sort"
   ]
  },
  {
   "cell_type": "code",
   "execution_count": 7,
   "metadata": {},
   "outputs": [
    {
     "name": "stdout",
     "output_type": "stream",
     "text": [
      "0:00:00.000022\n"
     ]
    }
   ],
   "source": [
    "#a_list: the list to be sorted\n",
    "#key: if key does not exist, please enter 0; if key exists, please use lambda to describe key\n",
    "#reverse: True or False\n",
    "import datetime\n",
    "def bubble_sort(a_list,key,reverse):\n",
    "    start = datetime.datetime.now()\n",
    "    nComp = 0\n",
    "    swap = 0\n",
    "    R = []\n",
    "    if type(key) == int:\n",
    "        for pass_num in range(len(a_list) - 1, 0, -1):\n",
    "            for i in range(pass_num):\n",
    "                nComp += 1\n",
    "                if a_list[i] > a_list[i + 1]:                \n",
    "                    a_list[i],a_list[i + 1] = a_list[i + 1] ,a_list[i]\n",
    "                    swap += 1\n",
    "    if type(key) != int:\n",
    "        for pass_num in range(len(a_list) - 1, 0, -1):\n",
    "            for i in range(pass_num):\n",
    "                nComp += 1\n",
    "                if key(a_list[i]) > key(a_list[i + 1]): #compare the value of the key               \n",
    "                    a_list[i],a_list[i + 1] = a_list[i + 1] ,a_list[i]\n",
    "                    swap += 1\n",
    "    if reverse == False:\n",
    "        #print('The sorted list is:',a_list)\n",
    "        #print('The number of comparisons is:',nComp)\n",
    "        #print('The number of swaps is:',swap)\n",
    "        end = datetime.datetime.now()\n",
    "        time = end - start\n",
    "        #print('The time is:',time)\n",
    "        return a_list,nComp,swap,time\n",
    "    if reverse == True:\n",
    "        r = len(a_list) - 1\n",
    "        while r >= 0:\n",
    "            R.append(a_list[r]) #use a new list to store the reversed list\n",
    "            r = r -1\n",
    "        #print('The sorted list is:',R)\n",
    "        #print('The number of comparisons is:',nComp)\n",
    "        #print('The number of swaps is:',swap)\n",
    "        end = datetime.datetime.now()\n",
    "        time = end - start\n",
    "        #print('The time is:',time)\n",
    "        return R,nComp,swap,time\n",
    "        #return nComp\n",
    "        #return swap\n",
    "    #time = timeit.timeit()\n",
    "a_list = [54, 26, 93, 17, 77, 31, 44, 55, 20]\n",
    "#a_list = [5, 4, 3, 2, 1]\n",
    "#key = lambda x:sum([ord(item) for item in str(x)])\n",
    "print(bubble_sort(a_list,0,False)[3])"
   ]
  },
  {
   "cell_type": "markdown",
   "metadata": {},
   "source": [
    "# Merge Sort"
   ]
  },
  {
   "cell_type": "code",
   "execution_count": 11,
   "metadata": {},
   "outputs": [
    {
     "name": "stdout",
     "output_type": "stream",
     "text": [
      "(['z', 90, 'c', 'a'], 5, datetime.timedelta(microseconds=45))\n"
     ]
    }
   ],
   "source": [
    "import datetime\n",
    "nComp = 0\n",
    "def merge_sort(a_list,key,reverse):\n",
    "    start = datetime.datetime.now()\n",
    "    global nComp\n",
    "    #print(\"Splitting \", a_list)\n",
    "    if len(a_list) > 1:\n",
    "        mid = len(a_list) // 2\n",
    "        left_half = a_list[:mid]\n",
    "        right_half = a_list[mid:]\n",
    "        merge_sort(left_half,key,reverse)\n",
    "        merge_sort(right_half,key,reverse)\n",
    "\n",
    "        i = 0\n",
    "        j = 0\n",
    "        k = 0\n",
    "\n",
    "        if type(key) != int:\n",
    "            while i < len(left_half) and j < len(right_half):\n",
    "                if key(left_half[i]) < key(right_half[j]): #compare the value of the key\n",
    "                    a_list[k] = left_half[i]\n",
    "                    i = i + 1\n",
    "                else:\n",
    "                    a_list[k] = right_half[j]\n",
    "                    j = j + 1\n",
    "                k = k + 1\n",
    "                nComp +=1\n",
    "\n",
    "            while i < len(left_half):\n",
    "                a_list[k] = left_half[i]\n",
    "                i = i + 1\n",
    "                k = k + 1\n",
    "\n",
    "            while j < len(right_half):\n",
    "                a_list[k] = right_half[j]\n",
    "                j = j + 1\n",
    "                k = k + 1\n",
    "        \n",
    "        if type(key) == int:\n",
    "            while i < len(left_half) and j < len(right_half):\n",
    "                if left_half[i] < right_half[j]:\n",
    "                    a_list[k] = left_half[i]\n",
    "                    i = i + 1\n",
    "                else:\n",
    "                    a_list[k] = right_half[j]\n",
    "                    j = j + 1\n",
    "                k = k + 1\n",
    "                nComp += 1\n",
    "\n",
    "            while i < len(left_half):\n",
    "                a_list[k] = left_half[i]\n",
    "                i = i + 1\n",
    "                k = k + 1\n",
    "\n",
    "            while j < len(right_half):\n",
    "                a_list[k] = right_half[j]\n",
    "                j = j + 1\n",
    "                k = k + 1\n",
    "        R = []\n",
    "        if reverse == False:\n",
    "            #print('The sorted list is:',a_list)\n",
    "            #print('The number of comparisons is:',nComp)\n",
    "            end = datetime.datetime.now()\n",
    "            time = end - start\n",
    "            #print('The time is:',time)\n",
    "            return a_list,nComp,time\n",
    "        if reverse == True:\n",
    "            r = len(a_list) - 1\n",
    "            while r >= 0:\n",
    "                R.append(a_list[r])\n",
    "                r = r -1 #use a new list to store the reversed list\n",
    "            #print('The sorted list is:',R)\n",
    "            #print('The number of comparisons is:',nComp)\n",
    "            end = datetime.datetime.now()\n",
    "            time = end - start\n",
    "            #print('The time is:',time)\n",
    "            return R,nComp,time\n",
    "#a_list = [54, 26, 93, 17, 77, 31, 44, 55, 20]\n",
    "a_list = [90,'a','z','c']\n",
    "key = lambda x:sum([ord(item) for item in str(x)])\n",
    "print(merge_sort(a_list,key,True))\n",
    "#print(a_list)\n",
    "#print(nComp)"
   ]
  },
  {
   "cell_type": "markdown",
   "metadata": {},
   "source": [
    "# Draw Time Usage in Plots"
   ]
  },
  {
   "cell_type": "markdown",
   "metadata": {},
   "source": [
    "## Using numeric lists without reversing as examples"
   ]
  },
  {
   "cell_type": "code",
   "execution_count": 9,
   "metadata": {},
   "outputs": [],
   "source": [
    "import timeit\n",
    "#a_list = [54, 26, 93, 17, 77, 31, 44, 55, 20]\n",
    "#key = lambda x:sum([ord(item) for item in str(x)])\n",
    "def time1(a_list):\n",
    "    #bubble_sort(a_list,0,False)\n",
    "    time = timeit.timeit(lambda: bubble_sort(a_list,key,False),number = 1)\n",
    "    print('The bubble sort time is:',time)\n",
    "    return time\n",
    "\n",
    "def time2(a_list):\n",
    "    #bubble_sort(a_list,0,False)\n",
    "    time = timeit.timeit(lambda: sorted(a_list),number = 1)\n",
    "    print('The sorted() time is:',time)\n",
    "    return time\n",
    "\n",
    "def time3(a_list):\n",
    "    #bubble_sort(a_list,0,False)\n",
    "    time = timeit.timeit(lambda: merge_sort(a_list,key,False),number = 1)\n",
    "    print('The merge sort time is:',time)\n",
    "    return time\n",
    "    \n",
    "#time3(a_list)\n",
    "#time2(10)"
   ]
  },
  {
   "cell_type": "code",
   "execution_count": 4,
   "metadata": {},
   "outputs": [],
   "source": [
    "#generate a random list for plots\n",
    "import random,string\n",
    "#define a function to generate a random list\n",
    "def gen_list(N):\n",
    "    a_list = []\n",
    "    i = 0\n",
    "    while i < N:\n",
    "        a_list.append(random.randint(0,100)) #append random string or a random int to the blank list L\n",
    "        i = i + 1\n",
    "    return(a_list) #L is the final random list of N words and numbers\n",
    "#gen_list(10)"
   ]
  },
  {
   "cell_type": "code",
   "execution_count": 14,
   "metadata": {},
   "outputs": [
    {
     "name": "stdout",
     "output_type": "stream",
     "text": [
      "The bubble sort time is: 0.00012135500003296329\n",
      "The bubble sort time is: 0.002141321000010521\n",
      "The bubble sort time is: 0.009311636000006729\n",
      "The bubble sort time is: 0.03030814599998166\n",
      "The merge sort time is: 7.724599998937265e-05\n",
      "The merge sort time is: 0.0003946480000536212\n",
      "The merge sort time is: 0.0009281349999810118\n",
      "The merge sort time is: 0.001970728000003419\n",
      "The sorted() time is: 2.9629999858116207e-06\n",
      "The sorted() time is: 3.2261999990623735e-05\n",
      "The sorted() time is: 9.093000016946462e-06\n",
      "The sorted() time is: 2.2536000017225888e-05\n"
     ]
    },
    {
     "data": {
      "text/plain": [
       "<matplotlib.legend.Legend at 0x114804be0>"
      ]
     },
     "execution_count": 14,
     "metadata": {},
     "output_type": "execute_result"
    },
    {
     "data": {
      "image/png": "[encoded data removed]",
      "text/plain": [
       "<Figure size 432x288 with 1 Axes>"
      ]
     },
     "metadata": {
      "needs_background": "light"
     },
     "output_type": "display_data"
    }
   ],
   "source": [
    "import matplotlib.pyplot as plt\n",
    "a = gen_list(10)\n",
    "b = gen_list(50)\n",
    "c = gen_list(100)\n",
    "d = gen_list(200)\n",
    "plt.plot([10,50,100,200], [time1(a),time1(b),time1(c),time1(d)], label = 'bubble sort', color='green', linestyle='solid')\n",
    "plt.plot([10,50,100,200], [time3(a),time3(b),time3(c),time3(d)], label = 'merge sort', color='red', linestyle='solid')\n",
    "plt.plot([10,50,100,200], [time2(a),time2(b),time2(c),time2(d)], label = 'sorted()', color='blue', linestyle='solid')\n",
    "plt.legend()"
   ]
  }
 ],
 "metadata": {
  "kernelspec": {
   "display_name": "Python 3",
   "language": "python",
   "name": "python3"
  },
  "language_info": {
   "codemirror_mode": {
    "name": "ipython",
    "version": 3
   },
   "file_extension": ".py",
   "mimetype": "text/x-python",
   "name": "python",
   "nbconvert_exporter": "python",
   "pygments_lexer": "ipython3",
   "version": "3.7.0"
  }
 },
 "nbformat": 4,
 "nbformat_minor": 2
}
