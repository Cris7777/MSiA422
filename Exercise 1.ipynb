{
 "cells": [
  {
   "cell_type": "markdown",
   "metadata": {},
   "source": [
    "# Exercise 1"
   ]
  },
  {
   "cell_type": "code",
   "execution_count": null,
   "metadata": {},
   "outputs": [],
   "source": [
    "import random,string\n",
    "def gen_list(N):\n",
    "    L = []\n",
    "    i = 0\n",
    "    def randomstring(R):\n",
    "        letters = string.ascii_lowercase\n",
    "        s = '' \n",
    "        s = s.join([random.choice(letters) for p in range(R)])\n",
    "        return s\n",
    "\n",
    "    while i < N:\n",
    "        L.append(random.choice([randomstring(10),random.randint(0,100)]))\n",
    "        i = i + 1\n",
    "    #print('L:',L)\n",
    "    return(L)\n",
    "gen_list(10)"
   ]
  },
  {
   "cell_type": "code",
   "execution_count": 58,
   "metadata": {},
   "outputs": [
    {
     "name": "stdout",
     "output_type": "stream",
     "text": [
      "Count of Numbers: 6\n",
      "Count of Words: 4\n"
     ]
    }
   ],
   "source": [
    "#L = [2, 3, 'word access', -1, 'python programming language', 9, 321]\n",
    "def count(n):\n",
    "    L = gen_list(n)\n",
    "    i = 0\n",
    "    count_num = 0\n",
    "    count_word = 0\n",
    "    for L[i] in L:\n",
    "        if type(L[i]) == int:\n",
    "            count_num = count_num + 1\n",
    "        else:\n",
    "            count_word = count_word + len(L[i].split())\n",
    "        i = i + 1\n",
    "    print('Count of Numbers:',count_num)\n",
    "    print('Count of Words:',count_word)\n",
    "count(10)"
   ]
  },
  {
   "cell_type": "code",
   "execution_count": 64,
   "metadata": {},
   "outputs": [
    {
     "name": "stdout",
     "output_type": "stream",
     "text": [
      "Count of Numbers: 3\n",
      "Count of Words: 7\n"
     ]
    }
   ],
   "source": [
    "#P = [2, 3, 'word access to', -1, 'python programming language', 9, 321]\n",
    "def count1(n1):\n",
    "    j = 0\n",
    "    #P_word1 = 0\n",
    "    L = gen_list(n1)\n",
    "    L_num = [L[j] for L[j] in L if type(L[j])==int]\n",
    "    L_word = [L[j] for L[j] in L if type(L[j])==str]\n",
    "    #print(sum(L_word，0))\n",
    "    print('Count of Numbers:',len(L_num))\n",
    "    print('Count of Words:',len(L_word))\n",
    "count1(10)"
   ]
  },
  {
   "cell_type": "code",
   "execution_count": 65,
   "metadata": {},
   "outputs": [],
   "source": [
    "def time1(n1):\n",
    "    return timeit.timeit(lambda: count(n1),number = 1)\n",
    "\n",
    "def time2(n2):\n",
    "    return timeit.timeit(lambda: count(n2),number = 1)"
   ]
  },
  {
   "cell_type": "code",
   "execution_count": null,
   "metadata": {},
   "outputs": [],
   "source": [
    "import matplotlib.pyplot as plt\n",
    "\n",
    "plt.plot([100,1000,10000,100000], [time1(100),time1(1000),time1(10000),time1(100000)], color='green', linestyle='solid', label = 'loop')\n",
    "plt.plot([100,1000,10000,100000], [time2(100),time2(1000),time2(10000),time2(100000)], color='red', linestyle='solid',label = "
   ]
  },
  {
   "cell_type": "code",
   "execution_count": 66,
   "metadata": {},
   "outputs": [
    {
     "name": "stdout",
     "output_type": "stream",
     "text": [
      "Count of Numbers: 47\n",
      "Count of Words: 53\n",
      "Count of Numbers: 485\n",
      "Count of Words: 515\n",
      "Count of Numbers: 5119\n",
      "Count of Words: 4881\n",
      "Count of Numbers: 49928\n",
      "Count of Words: 50072\n",
      "Count of Numbers: 51\n",
      "Count of Words: 49\n",
      "Count of Numbers: 508\n",
      "Count of Words: 492\n",
      "Count of Numbers: 5010\n",
      "Count of Words: 4990\n",
      "Count of Numbers: 49939\n",
      "Count of Words: 50061\n"
     ]
    },
    {
     "data": {
      "text/plain": [
       "[<matplotlib.lines.Line2D at 0x119049b00>]"
      ]
     },
     "execution_count": 66,
     "metadata": {},
     "output_type": "execute_result"
    },
    {
     "data": {
      "image/png": "[encoded data removed]",
      "text/plain": [
       "<Figure size 432x288 with 1 Axes>"
      ]
     },
     "metadata": {
      "needs_background": "light"
     },
     "output_type": "display_data"
    }
   ],
   "source": [
    "'list comprehension')"
   ]
  },
  {
   "cell_type": "markdown",
   "metadata": {},
   "source": [
    "# Exercise 2"
   ]
  },
  {
   "cell_type": "code",
   "execution_count": 11,
   "metadata": {},
   "outputs": [
    {
     "name": "stdout",
     "output_type": "stream",
     "text": [
      "[OrderedDict([('id', 'ID1'), ('Name', 'James'), ('Quizzes', '43'), ('Projects', '51'), ('Exams', '55'), ('Final Score', 50.2), ('Letter Grade', 'C')]), OrderedDict([('id', 'ID2'), ('Name', 'Josephine'), ('Quizzes', '76'), ('Projects', '84'), ('Exams', '87'), ('Final Score', 82.8), ('Letter Grade', 'B')]), OrderedDict([('id', 'ID3'), ('Name', 'Art'), ('Quizzes', '89'), ('Projects', '94'), ('Exams', '92'), ('Final Score', 91.7), ('Letter Grade', 'A')]), OrderedDict([('id', 'ID4'), ('Name', 'Lenna'), ('Quizzes', '70'), ('Projects', '67'), ('Exams', '64'), ('Final Score', 66.7), ('Letter Grade', 'C')]), OrderedDict([('id', 'ID5'), ('Name', 'Donette'), ('Quizzes', '63'), ('Projects', '59'), ('Exams', '58'), ('Final Score', 59.8), ('Letter Grade', 'C')]), OrderedDict([('id', 'ID6'), ('Name', 'Simona'), ('Quizzes', '65'), ('Projects', '69'), ('Exams', '68'), ('Final Score', 67.4), ('Letter Grade', 'C')]), OrderedDict([('id', 'ID7'), ('Name', 'Mitsue'), ('Quizzes', '41'), ('Projects', '43'), ('Exams', '34'), ('Final Score', 38.8), ('Letter Grade', 'C')]), OrderedDict([('id', 'ID8'), ('Name', 'Leota'), ('Quizzes', '63'), ('Projects', '72'), ('Exams', '70'), ('Final Score', 68.5), ('Letter Grade', 'C')]), OrderedDict([('id', 'ID9'), ('Name', 'Sage'), ('Quizzes', '56'), ('Projects', '71'), ('Exams', '65'), ('Final Score', 64.1), ('Letter Grade', 'C')]), OrderedDict([('id', 'ID10'), ('Name', 'Kris'), ('Quizzes', '60'), ('Projects', '66'), ('Exams', '65'), ('Final Score', 63.8), ('Letter Grade', 'C')]), OrderedDict([('id', 'ID11'), ('Name', 'Minna'), ('Quizzes', '41'), ('Projects', '49'), ('Exams', '43'), ('Final Score', 44.2), ('Letter Grade', 'C')]), OrderedDict([('id', 'ID12'), ('Name', 'Abel'), ('Quizzes', '53'), ('Projects', '54'), ('Exams', '50'), ('Final Score', 52.1), ('Letter Grade', 'C')]), OrderedDict([('id', 'ID13'), ('Name', 'Kiley'), ('Quizzes', '58'), ('Projects', '52'), ('Exams', '57'), ('Final Score', 55.8), ('Letter Grade', 'C')]), OrderedDict([('id', 'ID14'), ('Name', 'Graciela'), ('Quizzes', '69'), ('Projects', '79'), ('Exams', '74'), ('Final Score', 74.0), ('Letter Grade', 'C')]), OrderedDict([('id', 'ID15'), ('Name', 'Cammy'), ('Quizzes', '55'), ('Projects', '67'), ('Exams', '58'), ('Final Score', 59.8), ('Letter Grade', 'C')]), OrderedDict([('id', 'ID16'), ('Name', 'Mattie'), ('Quizzes', '73'), ('Projects', '69'), ('Exams', '72'), ('Final Score', 71.4), ('Letter Grade', 'C')]), OrderedDict([('id', 'ID17'), ('Name', 'Meaghan'), ('Quizzes', '69'), ('Projects', '81'), ('Exams', '76'), ('Final Score', 75.4), ('Letter Grade', 'C')]), OrderedDict([('id', 'ID18'), ('Name', 'Gladys'), ('Quizzes', '69'), ('Projects', '70'), ('Exams', '73'), ('Final Score', 70.9), ('Letter Grade', 'C')]), OrderedDict([('id', 'ID19'), ('Name', 'Yuki'), ('Quizzes', '82'), ('Projects', '81'), ('Exams', '79'), ('Final Score', 80.5), ('Letter Grade', 'B')]), OrderedDict([('id', 'ID20'), ('Name', 'Fletcher'), ('Quizzes', '66'), ('Projects', '79'), ('Exams', '76'), ('Final Score', 73.9), ('Letter Grade', 'C')]), OrderedDict([('id', 'ID21'), ('Name', 'Bette'), ('Quizzes', '58'), ('Projects', '62'), ('Exams', '63'), ('Final Score', 61.2), ('Letter Grade', 'C')]), OrderedDict([('id', 'ID22'), ('Name', 'Veronika'), ('Quizzes', '90'), ('Projects', '83'), ('Exams', '77'), ('Final Score', 82.7), ('Letter Grade', 'B')]), OrderedDict([('id', 'ID23'), ('Name', 'Willard'), ('Quizzes', '75'), ('Projects', '67'), ('Exams', '65'), ('Final Score', 68.6), ('Letter Grade', 'C')]), OrderedDict([('id', 'ID24'), ('Name', 'Maryann'), ('Quizzes', '66'), ('Projects', '52'), ('Exams', '57'), ('Final Score', 58.2), ('Letter Grade', 'C')]), OrderedDict([('id', 'ID25'), ('Name', 'Alisha'), ('Quizzes', '74'), ('Projects', '69'), ('Exams', '64'), ('Final Score', 68.5), ('Letter Grade', 'C')]), OrderedDict([('id', 'ID26'), ('Name', 'Allene'), ('Quizzes', '78'), ('Projects', '84'), ('Exams', '81'), ('Final Score', 81.0), ('Letter Grade', 'B')]), OrderedDict([('id', 'ID27'), ('Name', 'Chanel'), ('Quizzes', '45'), ('Projects', '53'), ('Exams', '49'), ('Final Score', 49.0), ('Letter Grade', 'C')]), OrderedDict([('id', 'ID28'), ('Name', 'Ezekiel'), ('Quizzes', '53'), ('Projects', '69'), ('Exams', '62'), ('Final Score', 61.4), ('Letter Grade', 'C')]), OrderedDict([('id', 'ID29'), ('Name', 'Willow'), ('Quizzes', '91'), ('Projects', '94'), ('Exams', '93'), ('Final Score', 92.7), ('Letter Grade', 'A')]), OrderedDict([('id', 'ID30'), ('Name', 'Bernardo'), ('Quizzes', '48'), ('Projects', '46'), ('Exams', '42'), ('Final Score', 45.0), ('Letter Grade', 'C')]), OrderedDict([('id', 'ID31'), ('Name', 'Ammie'), ('Quizzes', '65'), ('Projects', '70'), ('Exams', '65'), ('Final Score', 66.5), ('Letter Grade', 'C')]), OrderedDict([('id', 'ID32'), ('Name', 'Francine'), ('Quizzes', '76'), ('Projects', '93'), ('Exams', '88'), ('Final Score', 85.9), ('Letter Grade', 'B')]), OrderedDict([('id', 'ID33'), ('Name', 'Ernie'), ('Quizzes', '66'), ('Projects', '70'), ('Exams', '71'), ('Final Score', 69.2), ('Letter Grade', 'C')]), OrderedDict([('id', 'ID34'), ('Name', 'Albina'), ('Quizzes', '21'), ('Projects', '41'), ('Exams', '33'), ('Final Score', 31.8), ('Letter Grade', 'C')]), OrderedDict([('id', 'ID35'), ('Name', 'Alishia'), ('Quizzes', '65'), ('Projects', '66'), ('Exams', '68'), ('Final Score', 66.5), ('Letter Grade', 'C')]), OrderedDict([('id', 'ID36'), ('Name', 'Solange'), ('Quizzes', '66'), ('Projects', '68'), ('Exams', '67'), ('Final Score', 67.0), ('Letter Grade', 'C')]), OrderedDict([('id', 'ID37'), ('Name', 'Jose'), ('Quizzes', '62'), ('Projects', '66'), ('Exams', '68'), ('Final Score', 65.6), ('Letter Grade', 'C')]), OrderedDict([('id', 'ID38'), ('Name', 'Rozella'), ('Quizzes', '59'), ('Projects', '72'), ('Exams', '74'), ('Final Score', 68.9), ('Letter Grade', 'C')]), OrderedDict([('id', 'ID39'), ('Name', 'Valentine'), ('Quizzes', '83'), ('Projects', '85'), ('Exams', '78'), ('Final Score', 81.6), ('Letter Grade', 'B')]), OrderedDict([('id', 'ID40'), ('Name', 'Kati'), ('Quizzes', '76'), ('Projects', '82'), ('Exams', '82'), ('Final Score', 80.2), ('Letter Grade', 'B')]), OrderedDict([('id', 'ID41'), ('Name', 'Youlanda'), ('Quizzes', '87'), ('Projects', '85'), ('Exams', '80'), ('Final Score', 83.6), ('Letter Grade', 'B')]), OrderedDict([('id', 'ID42'), ('Name', 'Dyan'), ('Quizzes', '99'), ('Projects', '100'), ('Exams', '100'), ('Final Score', 99.7), ('Letter Grade', 'A')]), OrderedDict([('id', 'ID43'), ('Name', 'Roxane'), ('Quizzes', '69'), ('Projects', '54'), ('Exams', '58'), ('Final Score', 60.1), ('Letter Grade', 'C')]), OrderedDict([('id', 'ID44'), ('Name', 'Lavera'), ('Quizzes', '54'), ('Projects', '55'), ('Exams', '54'), ('Final Score', 54.3), ('Letter Grade', 'C')]), OrderedDict([('id', 'ID45'), ('Name', 'Erick'), ('Quizzes', '44'), ('Projects', '68'), ('Exams', '63'), ('Final Score', 58.8), ('Letter Grade', 'C')]), OrderedDict([('id', 'ID46'), ('Name', 'Fatima'), ('Quizzes', '93'), ('Projects', '100'), ('Exams', '100'), ('Final Score', 97.9), ('Letter Grade', 'A')]), OrderedDict([('id', 'ID47'), ('Name', 'Jina'), ('Quizzes', '72'), ('Projects', '87'), ('Exams', '95'), ('Final Score', 85.7), ('Letter Grade', 'B')]), OrderedDict([('id', 'ID48'), ('Name', 'Kanisha'), ('Quizzes', '61'), ('Projects', '61'), ('Exams', '65'), ('Final Score', 62.6), ('Letter Grade', 'C')]), OrderedDict([('id', 'ID49'), ('Name', 'Emerson'), ('Quizzes', '50'), ('Projects', '71'), ('Exams', '68'), ('Final Score', 63.5), ('Letter Grade', 'C')]), OrderedDict([('id', 'ID50'), ('Name', 'Blair'), ('Quizzes', '97'), ('Projects', '89'), ('Exams', '89'), ('Final Score', 91.4), ('Letter Grade', 'A')]), OrderedDict([('id', 'ID51'), ('Name', 'Brock'), ('Quizzes', '70'), ('Projects', '82'), ('Exams', '74'), ('Final Score', 75.2), ('Letter Grade', 'C')]), OrderedDict([('id', 'ID52'), ('Name', 'Lorrie'), ('Quizzes', '69'), ('Projects', '61'), ('Exams', '67'), ('Final Score', 65.8), ('Letter Grade', 'C')]), OrderedDict([('id', 'ID53'), ('Name', 'Sabra'), ('Quizzes', '40'), ('Projects', '47'), ('Exams', '55'), ('Final Score', 48.1), ('Letter Grade', 'C')]), OrderedDict([('id', 'ID54'), ('Name', 'Marjory'), ('Quizzes', '69'), ('Projects', '77'), ('Exams', '77'), ('Final Score', 74.6), ('Letter Grade', 'C')]), OrderedDict([('id', 'ID55'), ('Name', 'Karl'), ('Quizzes', '82'), ('Projects', '87'), ('Exams', '82'), ('Final Score', 83.5), ('Letter Grade', 'B')]), OrderedDict([('id', 'ID56'), ('Name', 'Tonette'), ('Quizzes', '46'), ('Projects', '46'), ('Exams', '44'), ('Final Score', 45.2), ('Letter Grade', 'C')]), OrderedDict([('id', 'ID57'), ('Name', 'Amber'), ('Quizzes', '82'), ('Projects', '82'), ('Exams', '74'), ('Final Score', 78.8), ('Letter Grade', 'C')]), OrderedDict([('id', 'ID58'), ('Name', 'Shenika'), ('Quizzes', '57'), ('Projects', '77'), ('Exams', '74'), ('Final Score', 69.8), ('Letter Grade', 'C')]), OrderedDict([('id', 'ID59'), ('Name', 'Delmy'), ('Quizzes', '85'), ('Projects', '85'), ('Exams', '86'), ('Final Score', 85.4), ('Letter Grade', 'B')]), OrderedDict([('id', 'ID60'), ('Name', 'Deeanna'), ('Quizzes', '73'), ('Projects', '85'), ('Exams', '86'), ('Final Score', 81.8), ('Letter Grade', 'B')]), OrderedDict([('id', 'ID61'), ('Name', 'Blondell'), ('Quizzes', '37'), ('Projects', '28'), ('Exams', '32'), ('Final Score', 32.3), ('Letter Grade', 'C')]), OrderedDict([('id', 'ID62'), ('Name', 'Jamal'), ('Quizzes', '67'), ('Projects', '75'), ('Exams', '76'), ('Final Score', 73.0), ('Letter Grade', 'C')]), OrderedDict([('id', 'ID63'), ('Name', 'Cecily'), ('Quizzes', '34'), ('Projects', '52'), ('Exams', '56'), ('Final Score', 48.2), ('Letter Grade', 'C')]), OrderedDict([('id', 'ID64'), ('Name', 'Carmelina'), ('Quizzes', '57'), ('Projects', '58'), ('Exams', '61'), ('Final Score', 58.9), ('Letter Grade', 'C')]), OrderedDict([('id', 'ID65'), ('Name', 'Maurine'), ('Quizzes', '68'), ('Projects', '75'), ('Exams', '79'), ('Final Score', 74.5), ('Letter Grade', 'C')]), OrderedDict([('id', 'ID66'), ('Name', 'Tawna'), ('Quizzes', '54'), ('Projects', '52'), ('Exams', '49'), ('Final Score', 51.4), ('Letter Grade', 'C')]), OrderedDict([('id', 'ID67'), ('Name', 'Penney'), ('Quizzes', '63'), ('Projects', '63'), ('Exams', '67'), ('Final Score', 64.6), ('Letter Grade', 'C')]), OrderedDict([('id', 'ID68'), ('Name', 'Elly'), ('Quizzes', '59'), ('Projects', '51'), ('Exams', '47'), ('Final Score', 51.8), ('Letter Grade', 'C')]), OrderedDict([('id', 'ID69'), ('Name', 'Ilene'), ('Quizzes', '67'), ('Projects', '67'), ('Exams', '62'), ('Final Score', 65.0), ('Letter Grade', 'C')]), OrderedDict([('id', 'ID70'), ('Name', 'Vallie'), ('Quizzes', '82'), ('Projects', '92'), ('Exams', '89'), ('Final Score', 87.8), ('Letter Grade', 'B')]), OrderedDict([('id', 'ID71'), ('Name', 'Kallie'), ('Quizzes', '72'), ('Projects', '69'), ('Exams', '66'), ('Final Score', 68.7), ('Letter Grade', 'C')]), OrderedDict([('id', 'ID72'), ('Name', 'Johnetta'), ('Quizzes', '89'), ('Projects', '98'), ('Exams', '94'), ('Final Score', 93.7), ('Letter Grade', 'A')]), OrderedDict([('id', 'ID73'), ('Name', 'Bobbye'), ('Quizzes', '61'), ('Projects', '60'), ('Exams', '54'), ('Final Score', 57.9), ('Letter Grade', 'C')]), OrderedDict([('id', 'ID74'), ('Name', 'Micaela'), ('Quizzes', '72'), ('Projects', '74'), ('Exams', '71'), ('Final Score', 72.2), ('Letter Grade', 'C')]), OrderedDict([('id', 'ID75'), ('Name', 'Tamar'), ('Quizzes', '54'), ('Projects', '61'), ('Exams', '66'), ('Final Score', 60.9), ('Letter Grade', 'C')]), OrderedDict([('id', 'ID76'), ('Name', 'Moon'), ('Quizzes', '69'), ('Projects', '77'), ('Exams', '76'), ('Final Score', 74.2), ('Letter Grade', 'C')]), OrderedDict([('id', 'ID77'), ('Name', 'Laurel'), ('Quizzes', '93'), ('Projects', '91'), ('Exams', '89'), ('Final Score', 90.8), ('Letter Grade', 'A')]), OrderedDict([('id', 'ID78'), ('Name', 'Delisa'), ('Quizzes', '79'), ('Projects', '82'), ('Exams', '72'), ('Final Score', 77.1), ('Letter Grade', 'C')]), OrderedDict([('id', 'ID79'), ('Name', 'Viva'), ('Quizzes', '90'), ('Projects', '91'), ('Exams', '94'), ('Final Score', 91.9), ('Letter Grade', 'A')]), OrderedDict([('id', 'ID80'), ('Name', 'Elza'), ('Quizzes', '66'), ('Projects', '76'), ('Exams', '71'), ('Final Score', 71.0), ('Letter Grade', 'C')]), OrderedDict([('id', 'ID81'), ('Name', 'Devorah'), ('Quizzes', '90'), ('Projects', '82'), ('Exams', '78'), ('Final Score', 82.8), ('Letter Grade', 'B')]), OrderedDict([('id', 'ID82'), ('Name', 'Timothy'), ('Quizzes', '73'), ('Projects', '79'), ('Exams', '81'), ('Final Score', 78.0), ('Letter Grade', 'C')]), OrderedDict([('id', 'ID83'), ('Name', 'Arlette'), ('Quizzes', '60'), ('Projects', '73'), ('Exams', '70'), ('Final Score', 67.9), ('Letter Grade', 'C')]), OrderedDict([('id', 'ID84'), ('Name', 'Dominque'), ('Quizzes', '61'), ('Projects', '48'), ('Exams', '52'), ('Final Score', 53.5), ('Letter Grade', 'C')]), OrderedDict([('id', 'ID85'), ('Name', 'Lettie'), ('Quizzes', '65'), ('Projects', '71'), ('Exams', '77'), ('Final Score', 71.6), ('Letter Grade', 'C')]), OrderedDict([('id', 'ID86'), ('Name', 'Myra'), ('Quizzes', '39'), ('Projects', '52'), ('Exams', '51'), ('Final Score', 47.7), ('Letter Grade', 'C')]), OrderedDict([('id', 'ID87'), ('Name', 'Stephaine'), ('Quizzes', '61'), ('Projects', '74'), ('Exams', '69'), ('Final Score', 68.1), ('Letter Grade', 'C')]), OrderedDict([('id', 'ID88'), ('Name', 'Lai'), ('Quizzes', '58'), ('Projects', '79'), ('Exams', '70'), ('Final Score', 69.1), ('Letter Grade', 'C')]), OrderedDict([('id', 'ID89'), ('Name', 'Stephen'), ('Quizzes', '81'), ('Projects', '67'), ('Exams', '73'), ('Final Score', 73.6), ('Letter Grade', 'C')]), OrderedDict([('id', 'ID90'), ('Name', 'Tyra'), ('Quizzes', '82'), ('Projects', '76'), ('Exams', '68'), ('Final Score', 74.6), ('Letter Grade', 'C')]), OrderedDict([('id', 'ID91'), ('Name', 'Tammara'), ('Quizzes', '66'), ('Projects', '85'), ('Exams', '81'), ('Final Score', 77.7), ('Letter Grade', 'C')]), OrderedDict([('id', 'ID92'), ('Name', 'Cory'), ('Quizzes', '79'), ('Projects', '86'), ('Exams', '87'), ('Final Score', 84.3), ('Letter Grade', 'B')]), OrderedDict([('id', 'ID93'), ('Name', 'Danica'), ('Quizzes', '50'), ('Projects', '60'), ('Exams', '58'), ('Final Score', 56.2), ('Letter Grade', 'C')]), OrderedDict([('id', 'ID94'), ('Name', 'Wilda'), ('Quizzes', '82'), ('Projects', '82'), ('Exams', '78'), ('Final Score', 80.4), ('Letter Grade', 'B')]), OrderedDict([('id', 'ID95'), ('Name', 'Elvera'), ('Quizzes', '81'), ('Projects', '83'), ('Exams', '86'), ('Final Score', 83.6), ('Letter Grade', 'B')]), OrderedDict([('id', 'ID96'), ('Name', 'Carma'), ('Quizzes', '64'), ('Projects', '59'), ('Exams', '62'), ('Final Score', 61.7), ('Letter Grade', 'C')]), OrderedDict([('id', 'ID97'), ('Name', 'Malinda'), ('Quizzes', '66'), ('Projects', '62'), ('Exams', '55'), ('Final Score', 60.4), ('Letter Grade', 'C')]), OrderedDict([('id', 'ID98'), ('Name', 'Natalie'), ('Quizzes', '95'), ('Projects', '85'), ('Exams', '91'), ('Final Score', 90.4), ('Letter Grade', 'A')]), OrderedDict([('id', 'ID99'), ('Name', 'Lisha'), ('Quizzes', '69'), ('Projects', '67'), ('Exams', '55'), ('Final Score', 62.8), ('Letter Grade', 'C')]), OrderedDict([('id', 'ID100'), ('Name', 'Arlene'), ('Quizzes', '58'), ('Projects', '71'), ('Exams', '68'), ('Final Score', 65.9), ('Letter Grade', 'C')])]\n"
     ]
    }
   ],
   "source": [
    "import csv\n",
    "\n",
    "file = 'exams.csv'\n",
    "with open(file) as fh:\n",
    "    data = csv.DictReader(fh,delimiter = ',') \n",
    "    rows = [row for row in data] #creat a dict for data\n",
    "    i = 0\n",
    "    score = []\n",
    "    while i < 100:\n",
    "        score.append(round(int(rows[i]['Exams']) * 0.4 + int(rows[i]['Quizzes']) * 0.3 + int(rows[i]['Projects']) * 0.3,2))\n",
    "        rows[i]['Final Score'] = round(score[i],2)\n",
    "        if score[i] >= 90 and score[i] < 100:\n",
    "            rows[i]['Letter Grade'] = 'A'\n",
    "        elif score[i] >= 80 and score[i] < 90:\n",
    "            rows[i]['Letter Grade'] = 'B'\n",
    "        elif score[i] >= 20 and score[i] < 80:\n",
    "            rows[i]['Letter Grade'] = 'C'\n",
    "        elif score[i] >= 10 and score[i] < 20:\n",
    "            rows[i]['Letter Grade'] = 'D'\n",
    "        else:\n",
    "            rows[i]['Letter Grade'] = 'F'\n",
    "        i = i + 1   \n",
    "    print(rows)"
   ]
  },
  {
   "cell_type": "code",
   "execution_count": 12,
   "metadata": {},
   "outputs": [],
   "source": [
    "def menu2():\n",
    "    name = sorted(rows,key = operator.itemgetter('Name'))\n",
    "    print(name)\n",
    "# menu2()"
   ]
  },
  {
   "cell_type": "code",
   "execution_count": 13,
   "metadata": {},
   "outputs": [],
   "source": [
    "def menu1():\n",
    "    path = 'exams.csv'\n",
    "    with open(path,'r') as f:\n",
    "        data_1 = f.readlines()\n",
    "        print(data_1)\n",
    "#menu1()"
   ]
  },
  {
   "cell_type": "code",
   "execution_count": 14,
   "metadata": {},
   "outputs": [],
   "source": [
    "def mode():\n",
    "    score.sort()\n",
    "    count = [0] * len(score)\n",
    "    temp = [0] * len(score)\n",
    "    x = 0\n",
    "    while x < len(score):\n",
    "        y = 0\n",
    "        while y < x + 1:\n",
    "            if score[x] != temp[y]:\n",
    "                if x == y:\n",
    "                    temp[y] = score[x]\n",
    "                    count[y] = count[y] + 1\n",
    "                    y = y + 1\n",
    "                if x != y :\n",
    "                    y = y + 1\n",
    "            elif score[x] == temp[y]:\n",
    "                count[y] = count[y] + 1\n",
    "                break\n",
    "        x = x + 1\n",
    "\n",
    "    mode = []\n",
    "    s = 0\n",
    "    while s < len(count):\n",
    "        if count[s] == max(count):\n",
    "            mode.append(temp[s])\n",
    "        s = s + 1\n",
    "    return(mode)\n",
    "        \n",
    "           \n",
    "def menu3(): \n",
    "    print('The student count is:',len(rows))\n",
    "    print('The minimum score is:',min(score))\n",
    "    print('The maximum score is:',max(score))\n",
    "    print('The mean of the score is:',statistics.mean(score))\n",
    "    print('The median of the score is:',statistics.median(score))\n",
    "    print('The modes of the score are:',mode())\n",
    "    print('The standard deviation of the score is:',round(statistics.stdev(score),2))\n",
    "#menu3()\n"
   ]
  },
  {
   "cell_type": "code",
   "execution_count": 16,
   "metadata": {},
   "outputs": [],
   "source": [
    "import statistics\n",
    "import matplotlib.pyplot as plt\n",
    "def menu4():\n",
    "    i = 0\n",
    "    A = [rows[i] for rows[i] in rows if rows[i]['Letter Grade'] == 'A'] \n",
    "    B = [rows[i] for rows[i] in rows if rows[i]['Letter Grade'] == 'B'] \n",
    "    C = [rows[i] for rows[i] in rows if rows[i]['Letter Grade'] == 'C'] \n",
    "    D = [rows[i] for rows[i] in rows if rows[i]['Letter Grade'] == 'D'] \n",
    "    F = [rows[i] for rows[i] in rows if rows[i]['Letter Grade'] == 'F'] \n",
    "\n",
    "# Data to plot\n",
    "    labels = 'A', 'B', 'D', 'C', 'F'\n",
    "    sizes = [len(A), len(B), len(D), len(C),len(F)]\n",
    "    colors = ['#ffcc66', '#ff6666', '#ffff66', '#ff9966','#00ff66']\n",
    "    explode = (0.1, 0, 0, 0)  # explode 1st slice\n",
    " \n",
    "# Plot\n",
    "    plt.pie(sizes, labels=labels, colors=colors, autopct='%1.1f%%', shadow=True)\n",
    " \n",
    "    plt.axis('equal')\n",
    "    plt.show()\n",
    "\n",
    "    score.sort()\n",
    "\n",
    "    j1 = 0\n",
    "    temp1 = []\n",
    "    j2 = 49\n",
    "    temp2 = []\n",
    "\n",
    "    while j1 < 50:\n",
    "        temp1.append(score[j1])\n",
    "        j1 = j1 + 1\n",
    "\n",
    "    while j2 < 100:\n",
    "        temp2.append(score[j2])\n",
    "        j2 = j2 + 1\n",
    "\n",
    "    Q1 = statistics.median(temp1)\n",
    "    Q2 = statistics.median(temp2)\n",
    "\n",
    "    print(' the minimun score is:',min(score),'\\n','the max score is:',max(score),'\\n','Q1 is:',statistics.median(temp1),'\\n','the median is:',statistics.median(score),'\\n','Q3 is:',statistics.median(temp2))"
   ]
  },
  {
   "cell_type": "code",
   "execution_count": 17,
   "metadata": {},
   "outputs": [],
   "source": [
    "import csv, matplotlib.pyplot as plt\n",
    "def menu():\n",
    "    print('Please enter:''\\n''1. Load Data''\\n''2. Student List''\\n''3. Score Summary''\\n''4. Chart''\\n''5. Exit')\n",
    "#menu()"
   ]
  },
  {
   "cell_type": "code",
   "execution_count": 18,
   "metadata": {},
   "outputs": [
    {
     "name": "stdout",
     "output_type": "stream",
     "text": [
      "Please enter:\n",
      "1. Load Data\n",
      "2. Student List\n",
      "3. Score Summary\n",
      "4. Chart\n",
      "5. Exit\n",
      "1\n",
      "['id,Name,Quizzes,Projects,Exams\\n', 'ID1,James,43,51,55\\n', 'ID2,Josephine,76,84,87\\n', 'ID3,Art,89,94,92\\n', 'ID4,Lenna,70,67,64\\n', 'ID5,Donette,63,59,58\\n', 'ID6,Simona,65,69,68\\n', 'ID7,Mitsue,41,43,34\\n', 'ID8,Leota,63,72,70\\n', 'ID9,Sage,56,71,65\\n', 'ID10,Kris,60,66,65\\n', 'ID11,Minna,41,49,43\\n', 'ID12,Abel,53,54,50\\n', 'ID13,Kiley,58,52,57\\n', 'ID14,Graciela,69,79,74\\n', 'ID15,Cammy,55,67,58\\n', 'ID16,Mattie,73,69,72\\n', 'ID17,Meaghan,69,81,76\\n', 'ID18,Gladys,69,70,73\\n', 'ID19,Yuki,82,81,79\\n', 'ID20,Fletcher,66,79,76\\n', 'ID21,Bette,58,62,63\\n', 'ID22,Veronika,90,83,77\\n', 'ID23,Willard,75,67,65\\n', 'ID24,Maryann,66,52,57\\n', 'ID25,Alisha,74,69,64\\n', 'ID26,Allene,78,84,81\\n', 'ID27,Chanel,45,53,49\\n', 'ID28,Ezekiel,53,69,62\\n', 'ID29,Willow,91,94,93\\n', 'ID30,Bernardo,48,46,42\\n', 'ID31,Ammie,65,70,65\\n', 'ID32,Francine,76,93,88\\n', 'ID33,Ernie,66,70,71\\n', 'ID34,Albina,21,41,33\\n', 'ID35,Alishia,65,66,68\\n', 'ID36,Solange,66,68,67\\n', 'ID37,Jose,62,66,68\\n', 'ID38,Rozella,59,72,74\\n', 'ID39,Valentine,83,85,78\\n', 'ID40,Kati,76,82,82\\n', 'ID41,Youlanda,87,85,80\\n', 'ID42,Dyan,99,100,100\\n', 'ID43,Roxane,69,54,58\\n', 'ID44,Lavera,54,55,54\\n', 'ID45,Erick,44,68,63\\n', 'ID46,Fatima,93,100,100\\n', 'ID47,Jina,72,87,95\\n', 'ID48,Kanisha,61,61,65\\n', 'ID49,Emerson,50,71,68\\n', 'ID50,Blair,97,89,89\\n', 'ID51,Brock,70,82,74\\n', 'ID52,Lorrie,69,61,67\\n', 'ID53,Sabra,40,47,55\\n', 'ID54,Marjory,69,77,77\\n', 'ID55,Karl,82,87,82\\n', 'ID56,Tonette,46,46,44\\n', 'ID57,Amber,82,82,74\\n', 'ID58,Shenika,57,77,74\\n', 'ID59,Delmy,85,85,86\\n', 'ID60,Deeanna,73,85,86\\n', 'ID61,Blondell,37,28,32\\n', 'ID62,Jamal,67,75,76\\n', 'ID63,Cecily,34,52,56\\n', 'ID64,Carmelina,57,58,61\\n', 'ID65,Maurine,68,75,79\\n', 'ID66,Tawna,54,52,49\\n', 'ID67,Penney,63,63,67\\n', 'ID68,Elly,59,51,47\\n', 'ID69,Ilene,67,67,62\\n', 'ID70,Vallie,82,92,89\\n', 'ID71,Kallie,72,69,66\\n', 'ID72,Johnetta,89,98,94\\n', 'ID73,Bobbye,61,60,54\\n', 'ID74,Micaela,72,74,71\\n', 'ID75,Tamar,54,61,66\\n', 'ID76,Moon,69,77,76\\n', 'ID77,Laurel,93,91,89\\n', 'ID78,Delisa,79,82,72\\n', 'ID79,Viva,90,91,94\\n', 'ID80,Elza,66,76,71\\n', 'ID81,Devorah,90,82,78\\n', 'ID82,Timothy,73,79,81\\n', 'ID83,Arlette,60,73,70\\n', 'ID84,Dominque,61,48,52\\n', 'ID85,Lettie,65,71,77\\n', 'ID86,Myra,39,52,51\\n', 'ID87,Stephaine,61,74,69\\n', 'ID88,Lai,58,79,70\\n', 'ID89,Stephen,81,67,73\\n', 'ID90,Tyra,82,76,68\\n', 'ID91,Tammara,66,85,81\\n', 'ID92,Cory,79,86,87\\n', 'ID93,Danica,50,60,58\\n', 'ID94,Wilda,82,82,78\\n', 'ID95,Elvera,81,83,86\\n', 'ID96,Carma,64,59,62\\n', 'ID97,Malinda,66,62,55\\n', 'ID98,Natalie,95,85,91\\n', 'ID99,Lisha,69,67,55\\n', 'ID100,Arlene,58,71,68\\n']\n",
      "Please enter:\n",
      "1. Load Data\n",
      "2. Student List\n",
      "3. Score Summary\n",
      "4. Chart\n",
      "5. Exit\n",
      "2\n",
      "[OrderedDict([('id', 'ID12'), ('Name', 'Abel'), ('Quizzes', '53'), ('Projects', '54'), ('Exams', '50'), ('Final Score', 52.1), ('Letter Grade', 'C')]), OrderedDict([('id', 'ID34'), ('Name', 'Albina'), ('Quizzes', '21'), ('Projects', '41'), ('Exams', '33'), ('Final Score', 31.8), ('Letter Grade', 'C')]), OrderedDict([('id', 'ID25'), ('Name', 'Alisha'), ('Quizzes', '74'), ('Projects', '69'), ('Exams', '64'), ('Final Score', 68.5), ('Letter Grade', 'C')]), OrderedDict([('id', 'ID35'), ('Name', 'Alishia'), ('Quizzes', '65'), ('Projects', '66'), ('Exams', '68'), ('Final Score', 66.5), ('Letter Grade', 'C')]), OrderedDict([('id', 'ID26'), ('Name', 'Allene'), ('Quizzes', '78'), ('Projects', '84'), ('Exams', '81'), ('Final Score', 81.0), ('Letter Grade', 'B')]), OrderedDict([('id', 'ID57'), ('Name', 'Amber'), ('Quizzes', '82'), ('Projects', '82'), ('Exams', '74'), ('Final Score', 78.8), ('Letter Grade', 'C')]), OrderedDict([('id', 'ID31'), ('Name', 'Ammie'), ('Quizzes', '65'), ('Projects', '70'), ('Exams', '65'), ('Final Score', 66.5), ('Letter Grade', 'C')]), OrderedDict([('id', 'ID100'), ('Name', 'Arlene'), ('Quizzes', '58'), ('Projects', '71'), ('Exams', '68'), ('Final Score', 65.9), ('Letter Grade', 'C')]), OrderedDict([('id', 'ID83'), ('Name', 'Arlette'), ('Quizzes', '60'), ('Projects', '73'), ('Exams', '70'), ('Final Score', 67.9), ('Letter Grade', 'C')]), OrderedDict([('id', 'ID3'), ('Name', 'Art'), ('Quizzes', '89'), ('Projects', '94'), ('Exams', '92'), ('Final Score', 91.7), ('Letter Grade', 'A')]), OrderedDict([('id', 'ID30'), ('Name', 'Bernardo'), ('Quizzes', '48'), ('Projects', '46'), ('Exams', '42'), ('Final Score', 45.0), ('Letter Grade', 'C')]), OrderedDict([('id', 'ID21'), ('Name', 'Bette'), ('Quizzes', '58'), ('Projects', '62'), ('Exams', '63'), ('Final Score', 61.2), ('Letter Grade', 'C')]), OrderedDict([('id', 'ID50'), ('Name', 'Blair'), ('Quizzes', '97'), ('Projects', '89'), ('Exams', '89'), ('Final Score', 91.4), ('Letter Grade', 'A')]), OrderedDict([('id', 'ID61'), ('Name', 'Blondell'), ('Quizzes', '37'), ('Projects', '28'), ('Exams', '32'), ('Final Score', 32.3), ('Letter Grade', 'C')]), OrderedDict([('id', 'ID73'), ('Name', 'Bobbye'), ('Quizzes', '61'), ('Projects', '60'), ('Exams', '54'), ('Final Score', 57.9), ('Letter Grade', 'C')]), OrderedDict([('id', 'ID51'), ('Name', 'Brock'), ('Quizzes', '70'), ('Projects', '82'), ('Exams', '74'), ('Final Score', 75.2), ('Letter Grade', 'C')]), OrderedDict([('id', 'ID15'), ('Name', 'Cammy'), ('Quizzes', '55'), ('Projects', '67'), ('Exams', '58'), ('Final Score', 59.8), ('Letter Grade', 'C')]), OrderedDict([('id', 'ID96'), ('Name', 'Carma'), ('Quizzes', '64'), ('Projects', '59'), ('Exams', '62'), ('Final Score', 61.7), ('Letter Grade', 'C')]), OrderedDict([('id', 'ID64'), ('Name', 'Carmelina'), ('Quizzes', '57'), ('Projects', '58'), ('Exams', '61'), ('Final Score', 58.9), ('Letter Grade', 'C')]), OrderedDict([('id', 'ID63'), ('Name', 'Cecily'), ('Quizzes', '34'), ('Projects', '52'), ('Exams', '56'), ('Final Score', 48.2), ('Letter Grade', 'C')]), OrderedDict([('id', 'ID27'), ('Name', 'Chanel'), ('Quizzes', '45'), ('Projects', '53'), ('Exams', '49'), ('Final Score', 49.0), ('Letter Grade', 'C')]), OrderedDict([('id', 'ID92'), ('Name', 'Cory'), ('Quizzes', '79'), ('Projects', '86'), ('Exams', '87'), ('Final Score', 84.3), ('Letter Grade', 'B')]), OrderedDict([('id', 'ID93'), ('Name', 'Danica'), ('Quizzes', '50'), ('Projects', '60'), ('Exams', '58'), ('Final Score', 56.2), ('Letter Grade', 'C')]), OrderedDict([('id', 'ID60'), ('Name', 'Deeanna'), ('Quizzes', '73'), ('Projects', '85'), ('Exams', '86'), ('Final Score', 81.8), ('Letter Grade', 'B')]), OrderedDict([('id', 'ID78'), ('Name', 'Delisa'), ('Quizzes', '79'), ('Projects', '82'), ('Exams', '72'), ('Final Score', 77.1), ('Letter Grade', 'C')]), OrderedDict([('id', 'ID59'), ('Name', 'Delmy'), ('Quizzes', '85'), ('Projects', '85'), ('Exams', '86'), ('Final Score', 85.4), ('Letter Grade', 'B')]), OrderedDict([('id', 'ID81'), ('Name', 'Devorah'), ('Quizzes', '90'), ('Projects', '82'), ('Exams', '78'), ('Final Score', 82.8), ('Letter Grade', 'B')]), OrderedDict([('id', 'ID84'), ('Name', 'Dominque'), ('Quizzes', '61'), ('Projects', '48'), ('Exams', '52'), ('Final Score', 53.5), ('Letter Grade', 'C')]), OrderedDict([('id', 'ID5'), ('Name', 'Donette'), ('Quizzes', '63'), ('Projects', '59'), ('Exams', '58'), ('Final Score', 59.8), ('Letter Grade', 'C')]), OrderedDict([('id', 'ID42'), ('Name', 'Dyan'), ('Quizzes', '99'), ('Projects', '100'), ('Exams', '100'), ('Final Score', 99.7), ('Letter Grade', 'A')]), OrderedDict([('id', 'ID68'), ('Name', 'Elly'), ('Quizzes', '59'), ('Projects', '51'), ('Exams', '47'), ('Final Score', 51.8), ('Letter Grade', 'C')]), OrderedDict([('id', 'ID95'), ('Name', 'Elvera'), ('Quizzes', '81'), ('Projects', '83'), ('Exams', '86'), ('Final Score', 83.6), ('Letter Grade', 'B')]), OrderedDict([('id', 'ID80'), ('Name', 'Elza'), ('Quizzes', '66'), ('Projects', '76'), ('Exams', '71'), ('Final Score', 71.0), ('Letter Grade', 'C')]), OrderedDict([('id', 'ID49'), ('Name', 'Emerson'), ('Quizzes', '50'), ('Projects', '71'), ('Exams', '68'), ('Final Score', 63.5), ('Letter Grade', 'C')]), OrderedDict([('id', 'ID45'), ('Name', 'Erick'), ('Quizzes', '44'), ('Projects', '68'), ('Exams', '63'), ('Final Score', 58.8), ('Letter Grade', 'C')]), OrderedDict([('id', 'ID33'), ('Name', 'Ernie'), ('Quizzes', '66'), ('Projects', '70'), ('Exams', '71'), ('Final Score', 69.2), ('Letter Grade', 'C')]), OrderedDict([('id', 'ID28'), ('Name', 'Ezekiel'), ('Quizzes', '53'), ('Projects', '69'), ('Exams', '62'), ('Final Score', 61.4), ('Letter Grade', 'C')]), OrderedDict([('id', 'ID46'), ('Name', 'Fatima'), ('Quizzes', '93'), ('Projects', '100'), ('Exams', '100'), ('Final Score', 97.9), ('Letter Grade', 'A')]), OrderedDict([('id', 'ID20'), ('Name', 'Fletcher'), ('Quizzes', '66'), ('Projects', '79'), ('Exams', '76'), ('Final Score', 73.9), ('Letter Grade', 'C')]), OrderedDict([('id', 'ID32'), ('Name', 'Francine'), ('Quizzes', '76'), ('Projects', '93'), ('Exams', '88'), ('Final Score', 85.9), ('Letter Grade', 'B')]), OrderedDict([('id', 'ID18'), ('Name', 'Gladys'), ('Quizzes', '69'), ('Projects', '70'), ('Exams', '73'), ('Final Score', 70.9), ('Letter Grade', 'C')]), OrderedDict([('id', 'ID14'), ('Name', 'Graciela'), ('Quizzes', '69'), ('Projects', '79'), ('Exams', '74'), ('Final Score', 74.0), ('Letter Grade', 'C')]), OrderedDict([('id', 'ID69'), ('Name', 'Ilene'), ('Quizzes', '67'), ('Projects', '67'), ('Exams', '62'), ('Final Score', 65.0), ('Letter Grade', 'C')]), OrderedDict([('id', 'ID62'), ('Name', 'Jamal'), ('Quizzes', '67'), ('Projects', '75'), ('Exams', '76'), ('Final Score', 73.0), ('Letter Grade', 'C')]), OrderedDict([('id', 'ID1'), ('Name', 'James'), ('Quizzes', '43'), ('Projects', '51'), ('Exams', '55'), ('Final Score', 50.2), ('Letter Grade', 'C')]), OrderedDict([('id', 'ID47'), ('Name', 'Jina'), ('Quizzes', '72'), ('Projects', '87'), ('Exams', '95'), ('Final Score', 85.7), ('Letter Grade', 'B')]), OrderedDict([('id', 'ID72'), ('Name', 'Johnetta'), ('Quizzes', '89'), ('Projects', '98'), ('Exams', '94'), ('Final Score', 93.7), ('Letter Grade', 'A')]), OrderedDict([('id', 'ID37'), ('Name', 'Jose'), ('Quizzes', '62'), ('Projects', '66'), ('Exams', '68'), ('Final Score', 65.6), ('Letter Grade', 'C')]), OrderedDict([('id', 'ID2'), ('Name', 'Josephine'), ('Quizzes', '76'), ('Projects', '84'), ('Exams', '87'), ('Final Score', 82.8), ('Letter Grade', 'B')]), OrderedDict([('id', 'ID71'), ('Name', 'Kallie'), ('Quizzes', '72'), ('Projects', '69'), ('Exams', '66'), ('Final Score', 68.7), ('Letter Grade', 'C')]), OrderedDict([('id', 'ID48'), ('Name', 'Kanisha'), ('Quizzes', '61'), ('Projects', '61'), ('Exams', '65'), ('Final Score', 62.6), ('Letter Grade', 'C')]), OrderedDict([('id', 'ID55'), ('Name', 'Karl'), ('Quizzes', '82'), ('Projects', '87'), ('Exams', '82'), ('Final Score', 83.5), ('Letter Grade', 'B')]), OrderedDict([('id', 'ID40'), ('Name', 'Kati'), ('Quizzes', '76'), ('Projects', '82'), ('Exams', '82'), ('Final Score', 80.2), ('Letter Grade', 'B')]), OrderedDict([('id', 'ID13'), ('Name', 'Kiley'), ('Quizzes', '58'), ('Projects', '52'), ('Exams', '57'), ('Final Score', 55.8), ('Letter Grade', 'C')]), OrderedDict([('id', 'ID10'), ('Name', 'Kris'), ('Quizzes', '60'), ('Projects', '66'), ('Exams', '65'), ('Final Score', 63.8), ('Letter Grade', 'C')]), OrderedDict([('id', 'ID88'), ('Name', 'Lai'), ('Quizzes', '58'), ('Projects', '79'), ('Exams', '70'), ('Final Score', 69.1), ('Letter Grade', 'C')]), OrderedDict([('id', 'ID77'), ('Name', 'Laurel'), ('Quizzes', '93'), ('Projects', '91'), ('Exams', '89'), ('Final Score', 90.8), ('Letter Grade', 'A')]), OrderedDict([('id', 'ID44'), ('Name', 'Lavera'), ('Quizzes', '54'), ('Projects', '55'), ('Exams', '54'), ('Final Score', 54.3), ('Letter Grade', 'C')]), OrderedDict([('id', 'ID4'), ('Name', 'Lenna'), ('Quizzes', '70'), ('Projects', '67'), ('Exams', '64'), ('Final Score', 66.7), ('Letter Grade', 'C')]), OrderedDict([('id', 'ID8'), ('Name', 'Leota'), ('Quizzes', '63'), ('Projects', '72'), ('Exams', '70'), ('Final Score', 68.5), ('Letter Grade', 'C')]), OrderedDict([('id', 'ID85'), ('Name', 'Lettie'), ('Quizzes', '65'), ('Projects', '71'), ('Exams', '77'), ('Final Score', 71.6), ('Letter Grade', 'C')]), OrderedDict([('id', 'ID99'), ('Name', 'Lisha'), ('Quizzes', '69'), ('Projects', '67'), ('Exams', '55'), ('Final Score', 62.8), ('Letter Grade', 'C')]), OrderedDict([('id', 'ID52'), ('Name', 'Lorrie'), ('Quizzes', '69'), ('Projects', '61'), ('Exams', '67'), ('Final Score', 65.8), ('Letter Grade', 'C')]), OrderedDict([('id', 'ID97'), ('Name', 'Malinda'), ('Quizzes', '66'), ('Projects', '62'), ('Exams', '55'), ('Final Score', 60.4), ('Letter Grade', 'C')]), OrderedDict([('id', 'ID54'), ('Name', 'Marjory'), ('Quizzes', '69'), ('Projects', '77'), ('Exams', '77'), ('Final Score', 74.6), ('Letter Grade', 'C')]), OrderedDict([('id', 'ID24'), ('Name', 'Maryann'), ('Quizzes', '66'), ('Projects', '52'), ('Exams', '57'), ('Final Score', 58.2), ('Letter Grade', 'C')]), OrderedDict([('id', 'ID16'), ('Name', 'Mattie'), ('Quizzes', '73'), ('Projects', '69'), ('Exams', '72'), ('Final Score', 71.4), ('Letter Grade', 'C')]), OrderedDict([('id', 'ID65'), ('Name', 'Maurine'), ('Quizzes', '68'), ('Projects', '75'), ('Exams', '79'), ('Final Score', 74.5), ('Letter Grade', 'C')]), OrderedDict([('id', 'ID17'), ('Name', 'Meaghan'), ('Quizzes', '69'), ('Projects', '81'), ('Exams', '76'), ('Final Score', 75.4), ('Letter Grade', 'C')]), OrderedDict([('id', 'ID74'), ('Name', 'Micaela'), ('Quizzes', '72'), ('Projects', '74'), ('Exams', '71'), ('Final Score', 72.2), ('Letter Grade', 'C')]), OrderedDict([('id', 'ID11'), ('Name', 'Minna'), ('Quizzes', '41'), ('Projects', '49'), ('Exams', '43'), ('Final Score', 44.2), ('Letter Grade', 'C')]), OrderedDict([('id', 'ID7'), ('Name', 'Mitsue'), ('Quizzes', '41'), ('Projects', '43'), ('Exams', '34'), ('Final Score', 38.8), ('Letter Grade', 'C')]), OrderedDict([('id', 'ID76'), ('Name', 'Moon'), ('Quizzes', '69'), ('Projects', '77'), ('Exams', '76'), ('Final Score', 74.2), ('Letter Grade', 'C')]), OrderedDict([('id', 'ID86'), ('Name', 'Myra'), ('Quizzes', '39'), ('Projects', '52'), ('Exams', '51'), ('Final Score', 47.7), ('Letter Grade', 'C')]), OrderedDict([('id', 'ID98'), ('Name', 'Natalie'), ('Quizzes', '95'), ('Projects', '85'), ('Exams', '91'), ('Final Score', 90.4), ('Letter Grade', 'A')]), OrderedDict([('id', 'ID67'), ('Name', 'Penney'), ('Quizzes', '63'), ('Projects', '63'), ('Exams', '67'), ('Final Score', 64.6), ('Letter Grade', 'C')]), OrderedDict([('id', 'ID43'), ('Name', 'Roxane'), ('Quizzes', '69'), ('Projects', '54'), ('Exams', '58'), ('Final Score', 60.1), ('Letter Grade', 'C')]), OrderedDict([('id', 'ID38'), ('Name', 'Rozella'), ('Quizzes', '59'), ('Projects', '72'), ('Exams', '74'), ('Final Score', 68.9), ('Letter Grade', 'C')]), OrderedDict([('id', 'ID53'), ('Name', 'Sabra'), ('Quizzes', '40'), ('Projects', '47'), ('Exams', '55'), ('Final Score', 48.1), ('Letter Grade', 'C')]), OrderedDict([('id', 'ID9'), ('Name', 'Sage'), ('Quizzes', '56'), ('Projects', '71'), ('Exams', '65'), ('Final Score', 64.1), ('Letter Grade', 'C')]), OrderedDict([('id', 'ID58'), ('Name', 'Shenika'), ('Quizzes', '57'), ('Projects', '77'), ('Exams', '74'), ('Final Score', 69.8), ('Letter Grade', 'C')]), OrderedDict([('id', 'ID6'), ('Name', 'Simona'), ('Quizzes', '65'), ('Projects', '69'), ('Exams', '68'), ('Final Score', 67.4), ('Letter Grade', 'C')]), OrderedDict([('id', 'ID36'), ('Name', 'Solange'), ('Quizzes', '66'), ('Projects', '68'), ('Exams', '67'), ('Final Score', 67.0), ('Letter Grade', 'C')]), OrderedDict([('id', 'ID87'), ('Name', 'Stephaine'), ('Quizzes', '61'), ('Projects', '74'), ('Exams', '69'), ('Final Score', 68.1), ('Letter Grade', 'C')]), OrderedDict([('id', 'ID89'), ('Name', 'Stephen'), ('Quizzes', '81'), ('Projects', '67'), ('Exams', '73'), ('Final Score', 73.6), ('Letter Grade', 'C')]), OrderedDict([('id', 'ID75'), ('Name', 'Tamar'), ('Quizzes', '54'), ('Projects', '61'), ('Exams', '66'), ('Final Score', 60.9), ('Letter Grade', 'C')]), OrderedDict([('id', 'ID91'), ('Name', 'Tammara'), ('Quizzes', '66'), ('Projects', '85'), ('Exams', '81'), ('Final Score', 77.7), ('Letter Grade', 'C')]), OrderedDict([('id', 'ID66'), ('Name', 'Tawna'), ('Quizzes', '54'), ('Projects', '52'), ('Exams', '49'), ('Final Score', 51.4), ('Letter Grade', 'C')]), OrderedDict([('id', 'ID82'), ('Name', 'Timothy'), ('Quizzes', '73'), ('Projects', '79'), ('Exams', '81'), ('Final Score', 78.0), ('Letter Grade', 'C')]), OrderedDict([('id', 'ID56'), ('Name', 'Tonette'), ('Quizzes', '46'), ('Projects', '46'), ('Exams', '44'), ('Final Score', 45.2), ('Letter Grade', 'C')]), OrderedDict([('id', 'ID90'), ('Name', 'Tyra'), ('Quizzes', '82'), ('Projects', '76'), ('Exams', '68'), ('Final Score', 74.6), ('Letter Grade', 'C')]), OrderedDict([('id', 'ID39'), ('Name', 'Valentine'), ('Quizzes', '83'), ('Projects', '85'), ('Exams', '78'), ('Final Score', 81.6), ('Letter Grade', 'B')]), OrderedDict([('id', 'ID70'), ('Name', 'Vallie'), ('Quizzes', '82'), ('Projects', '92'), ('Exams', '89'), ('Final Score', 87.8), ('Letter Grade', 'B')]), OrderedDict([('id', 'ID22'), ('Name', 'Veronika'), ('Quizzes', '90'), ('Projects', '83'), ('Exams', '77'), ('Final Score', 82.7), ('Letter Grade', 'B')]), OrderedDict([('id', 'ID79'), ('Name', 'Viva'), ('Quizzes', '90'), ('Projects', '91'), ('Exams', '94'), ('Final Score', 91.9), ('Letter Grade', 'A')]), OrderedDict([('id', 'ID94'), ('Name', 'Wilda'), ('Quizzes', '82'), ('Projects', '82'), ('Exams', '78'), ('Final Score', 80.4), ('Letter Grade', 'B')]), OrderedDict([('id', 'ID23'), ('Name', 'Willard'), ('Quizzes', '75'), ('Projects', '67'), ('Exams', '65'), ('Final Score', 68.6), ('Letter Grade', 'C')]), OrderedDict([('id', 'ID29'), ('Name', 'Willow'), ('Quizzes', '91'), ('Projects', '94'), ('Exams', '93'), ('Final Score', 92.7), ('Letter Grade', 'A')]), OrderedDict([('id', 'ID41'), ('Name', 'Youlanda'), ('Quizzes', '87'), ('Projects', '85'), ('Exams', '80'), ('Final Score', 83.6), ('Letter Grade', 'B')]), OrderedDict([('id', 'ID19'), ('Name', 'Yuki'), ('Quizzes', '82'), ('Projects', '81'), ('Exams', '79'), ('Final Score', 80.5), ('Letter Grade', 'B')])]\n",
      "Please enter:\n",
      "1. Load Data\n",
      "2. Student List\n",
      "3. Score Summary\n",
      "4. Chart\n",
      "5. Exit\n"
     ]
    },
    {
     "name": "stdout",
     "output_type": "stream",
     "text": [
      "3\n",
      "The student count is: 100\n",
      "The minimum score is: 31.8\n",
      "The maximum score is: 99.7\n",
      "The mean of the score is: 69.053\n",
      "The median of the score is: 68.65\n",
      "The modes of the score are: [59.8, 66.5, 68.5, 74.6, 82.8, 83.6]\n",
      "The standard deviation of the score is: 14.2\n",
      "Please enter:\n",
      "1. Load Data\n",
      "2. Student List\n",
      "3. Score Summary\n",
      "4. Chart\n",
      "5. Exit\n",
      "4\n"
     ]
    },
    {
     "data": {
      "image/png": "[encoded data removed]",
      "text/plain": [
       "<Figure size 432x288 with 1 Axes>"
      ]
     },
     "metadata": {},
     "output_type": "display_data"
    },
    {
     "name": "stdout",
     "output_type": "stream",
     "text": [
      " the minimun score is: 31.8 \n",
      " the max score is: 99.7 \n",
      " Q1 is: 60.25 \n",
      " the median is: 68.65 \n",
      " Q3 is: 80.2\n",
      "Please enter:\n",
      "1. Load Data\n",
      "2. Student List\n",
      "3. Score Summary\n",
      "4. Chart\n",
      "5. Exit\n",
      "5\n"
     ]
    }
   ],
   "source": [
    "import operator\n",
    "\n",
    "while 1:\n",
    "    menu()\n",
    "    e = int(input())\n",
    "    if e == 1:\n",
    "        menu1()\n",
    "    if e == 2:\n",
    "        menu2()\n",
    "    if e == 3:\n",
    "        menu3()\n",
    "    if e == 4:\n",
    "        menu4()\n",
    "    if e == 5:\n",
    "        break"
   ]
  },
  {
   "cell_type": "markdown",
   "metadata": {},
   "source": [
    "# Exercise 3"
   ]
  },
  {
   "cell_type": "code",
   "execution_count": null,
   "metadata": {},
   "outputs": [],
   "source": [
    "import numpy as np\n",
    "\n",
    "score = [100,99,98,97]\n",
    "np.average(score)"
   ]
  },
  {
   "cell_type": "code",
   "execution_count": null,
   "metadata": {},
   "outputs": [],
   "source": [
    "'''\n",
    "'''"
   ]
  }
 ],
 "metadata": {
  "kernelspec": {
   "display_name": "Python 3",
   "language": "python",
   "name": "python3"
  },
  "language_info": {
   "codemirror_mode": {
    "name": "ipython",
    "version": 3
   },
   "file_extension": ".py",
   "mimetype": "text/x-python",
   "name": "python",
   "nbconvert_exporter": "python",
   "pygments_lexer": "ipython3",
   "version": "3.7.0"
  }
 },
 "nbformat": 4,
 "nbformat_minor": 2
}
